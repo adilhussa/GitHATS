{
  "nbformat": 4,
  "nbformat_minor": 0,
  "metadata": {
    "colab": {
      "name": "Poisson_distribution_and_upper_limits_SOLUTIONS.ipynb",
      "provenance": [],
      "include_colab_link": true
    },
    "kernelspec": {
      "name": "python3",
      "display_name": "Python 3"
    }
  },
  "cells": [
    {
      "cell_type": "markdown",
      "metadata": {
        "id": "view-in-github",
        "colab_type": "text"
      },
      "source": [
        "<a href=\"https://colab.research.google.com/github/adilhussa/GitHATS/blob/master/Poisson_distribution_and_upper_limits_SOLUTIONS.ipynb\" target=\"_parent\"><img src=\"https://colab.research.google.com/assets/colab-badge.svg\" alt=\"Open In Colab\"/></a>"
      ]
    },
    {
      "cell_type": "markdown",
      "metadata": {
        "id": "LpWVq5FkC1ND"
      },
      "source": [
        "To edit this notebook, you can do one of two things. \n",
        "\n",
        "1) You can use the \"*Edit in Playground*\" button above, but then you won't have your own copy. \n",
        "\n",
        "Or you can (preferred)\n",
        "\n",
        "2) Save a copy in your own Google Drive (if you have a Google account)\n",
        "* Go to **File** from the drop-down menu above. \n",
        "* Select **Save a copy in Drive**\n",
        "* Edit and rename as you see fit!"
      ]
    },
    {
      "cell_type": "markdown",
      "metadata": {
        "id": "lcqoFlrXyGNq"
      },
      "source": [
        "# Poisson distribution\n",
        "\n",
        "From [Wikipedia](https://en.wikipedia.org/wiki/Poisson_distribution)\n",
        "\n",
        "*\"In probability theory and statistics, the Poisson distribution, named after French mathematician Siméon Denis Poisson, is a discrete probability distribution that expresses the probability of a given number of events occurring in a fixed interval of time or space if these events occur with a known constant mean rate and independently of the time since the last event.* **The Poisson distribution can also be used for the number of events in other specified intervals such as distance, area or volume.** (emphasis mine)\n",
        "\n",
        "\n",
        "Let's try to come up with some sort of pedagogical example. \n",
        "\n",
        "Suppose I am watching cars drive by on a very deserted highway at night, and after collecting a huge amount of data I find that the odds of a car going by in a 1 minute interval, is only 2%. \n",
        "\n",
        "Now, let me ask you a question: *how many cars, on average, pass by in a 100 minute interval?* \n",
        "\n",
        "It's probably around 2, right? 2% per minute and 100 minutes? Well, let's run a simulation and see what we get!"
      ]
    },
    {
      "cell_type": "code",
      "metadata": {
        "id": "u2LUyBOcyBW4"
      },
      "source": [
        "# Import some usual code. \n",
        "\n",
        "import numpy as np\n",
        "import matplotlib.pylab as plt"
      ],
      "execution_count": null,
      "outputs": []
    },
    {
      "cell_type": "code",
      "metadata": {
        "id": "dU2GJN4OztFk"
      },
      "source": [
        "# Let's write a function to simulate our 100-minute interval.\n",
        "\n",
        "# To do this, we'll simulate 100 1-minute intervals and test to \n",
        "# see if a car went by and keep track of the number of cars\n",
        "\n",
        "def interval(num_sub_intervals=100, prob=0.02):\n",
        "\n",
        "  ncars = 0\n",
        "  # Generate 100 numbers between 0 and 1\n",
        "  test_vals = np.random.random(num_sub_intervals)\n",
        "\n",
        "  # Find out how many are less than the probability we're testing \n",
        "  ncars = len(test_vals[test_vals<prob])\n",
        "\n",
        "  return ncars"
      ],
      "execution_count": null,
      "outputs": []
    },
    {
      "cell_type": "code",
      "metadata": {
        "colab": {
          "base_uri": "https://localhost:8080/"
        },
        "id": "RSWqgbrB0S66",
        "outputId": "b71092e6-f969-4c95-97fd-0fc9b66410a0"
      },
      "source": [
        "# Let's test it out!\n",
        "\n",
        "# We know there will be 100 1-minute intervals in the overall 100-minute interval\n",
        "ncars = interval(100)\n",
        "print(ncars)\n",
        "\n",
        "# You can run this cell multiple times to see if you get different answers"
      ],
      "execution_count": null,
      "outputs": [
        {
          "output_type": "stream",
          "text": [
            "3\n"
          ],
          "name": "stdout"
        }
      ]
    },
    {
      "cell_type": "code",
      "metadata": {
        "colab": {
          "base_uri": "https://localhost:8080/",
          "height": 279
        },
        "id": "PfrPHhVj0eEr",
        "outputId": "e5aae4cd-8881-4f00-f2d3-1a39c634ef7f"
      },
      "source": [
        "# OK, let's run this simulation lots of times and see what the distribution looks like!\n",
        "\n",
        "nsimulations = 100000\n",
        "\n",
        "ncars_per_sim = []\n",
        "\n",
        "for i in range(nsimulations):\n",
        "  ncars = interval(100)\n",
        "  ncars_per_sim.append(ncars)\n",
        "\n",
        "plt.figure(figsize=(14,4))\n",
        "plt.subplot(1,2,1)\n",
        "plt.hist(ncars_per_sim,range=(0,11),bins=11)\n",
        "plt.xlabel('# cars pass by in 100 minutes')\n",
        "plt.ylabel('Occurrances');\n",
        "\n",
        "plt.subplot(1,2,2)\n",
        "# Plot the density (normalized)\n",
        "plt.hist(ncars_per_sim,range=(0,11),bins=11,density=True)\n",
        "plt.xlabel('# cars pass by in 100 minutes')\n",
        "plt.ylabel('Probability');\n"
      ],
      "execution_count": null,
      "outputs": [
        {
          "output_type": "display_data",
          "data": {
            "image/png": "[encoded data removed]",
            "text/plain": [
              "<Figure size 1008x288 with 2 Axes>"
            ]
          },
          "metadata": {
            "tags": [],
            "needs_background": "light"
          }
        }
      ]
    },
    {
      "cell_type": "markdown",
      "metadata": {
        "id": "Cxrq6_m28Vb-"
      },
      "source": [
        "This is a Poisson distribution with an expected number (average) of cars observed as 2. The analytic form of the distribution is given as follows:\n",
        "\n",
        "$$P(\\textrm{observe } k \\textrm{ events}) = \\frac{\\lambda^k e^{-\\lambda}}{k!}$$\n",
        "\n",
        "Where $\\lambda$ is the average number we would expect, in the above case $\\lambda=2$. \n",
        "\n",
        "We can use the ```scipy.stats``` module to plot the Poisson distribution, rather than relying on our pedagogical simulation. \n",
        "\n"
      ]
    },
    {
      "cell_type": "code",
      "metadata": {
        "colab": {
          "base_uri": "https://localhost:8080/",
          "height": 279
        },
        "id": "Hk8NR6_q01q9",
        "outputId": "df6d9bd3-8bb1-4bb7-be58-7527b27f955b"
      },
      "source": [
        "import scipy.stats as stats\n",
        "\n",
        "pdf = stats.poisson(2)\n",
        "\n",
        "plt.figure()\n",
        "x = np.linspace(0,11,12)\n",
        "plt.hist(x,weights=pdf.pmf(x),bins=10,range=(0,10),histtype=r'stepfilled',linewidth=4)\n",
        "plt.xlabel('# cars pass by in 100 minutes')\n",
        "plt.ylabel('Occurrances');\n"
      ],
      "execution_count": null,
      "outputs": [
        {
          "output_type": "display_data",
          "data": {
            "image/png": "[encoded data removed]",
            "text/plain": [
              "<Figure size 432x288 with 1 Axes>"
            ]
          },
          "metadata": {
            "tags": [],
            "needs_background": "light"
          }
        }
      ]
    },
    {
      "cell_type": "markdown",
      "metadata": {
        "id": "hQX1_B2a-Vwm"
      },
      "source": [
        "We can also use the function to find the probability of observing some number of events, \n",
        "given some average value. "
      ]
    },
    {
      "cell_type": "code",
      "metadata": {
        "colab": {
          "base_uri": "https://localhost:8080/"
        },
        "id": "LhPB4FsE-Nd3",
        "outputId": "09699904-e367-4dc3-ab92-43c02b39a6da"
      },
      "source": [
        "# Observe 2 events, given an average value of 2\n",
        "obs = 2\n",
        "ave = 2\n",
        "prob = stats.poisson.pmf(obs,ave)\n",
        "print(\"The probability of observing {0} events given an average of {1} is {2:.3}\".format(obs,ave,prob))"
      ],
      "execution_count": null,
      "outputs": [
        {
          "output_type": "stream",
          "text": [
            "The probability of observing 2 events given an average of 2 is 0.271\n"
          ],
          "name": "stdout"
        }
      ]
    },
    {
      "cell_type": "code",
      "metadata": {
        "colab": {
          "base_uri": "https://localhost:8080/"
        },
        "id": "MF5ZrtAm2a5C",
        "outputId": "9a7d96ad-8e1b-4c7e-8a44-b9b5bc53d3d6"
      },
      "source": [
        "# Observe 4 events, given an average value of 2\n",
        "obs = 4\n",
        "ave = 2\n",
        "prob = stats.poisson.pmf(obs,ave)\n",
        "print(\"The probability of observing {0} events given an average of {1} is {2:.3}\".format(obs,ave,prob))"
      ],
      "execution_count": null,
      "outputs": [
        {
          "output_type": "stream",
          "text": [
            "The probability of observing 4 events given an average of 2 is 0.0902\n"
          ],
          "name": "stdout"
        }
      ]
    },
    {
      "cell_type": "code",
      "metadata": {
        "colab": {
          "base_uri": "https://localhost:8080/"
        },
        "id": "SGj0AXfW-_8_",
        "outputId": "9751e3dc-6a51-4d8b-f4d9-21e83185e32c"
      },
      "source": [
        "# Observe 0 events, given an average value of 2\n",
        "obs = 0\n",
        "ave = 2\n",
        "prob = stats.poisson.pmf(obs,ave)\n",
        "print(\"The probability of observing {0} events given an average of {1} is {2:.3}\".format(obs,ave,prob))"
      ],
      "execution_count": null,
      "outputs": [
        {
          "output_type": "stream",
          "text": [
            "The probability of observing 0 events given an average of 2 is 0.135\n"
          ],
          "name": "stdout"
        }
      ]
    },
    {
      "cell_type": "markdown",
      "metadata": {
        "id": "tIAy-fiV_dql"
      },
      "source": [
        "# Upper limits\n",
        "\n",
        "Given a non-observation, the challenge of estimating an upper limit is non-trivial! And there's no unique approach. However, to get some sort of understanding of how to think about this, let's try to use Poisson statistics to estimate the upper limit on a null result. \n",
        "\n",
        "For the following discussion we are not going to worry about systematics. Don't tell anyone! :)\n",
        "\n",
        "You've run your experiment/analysis and you expect 0 background. Nice! What's your upper limit at the 95% confidence level? \n",
        "\n",
        "Note that the Universe could \"want\" to produce 1 event, on average, for the time interval in which you collected data, but if the process is Poisson in nature, then there is a probability that you would have observed 0 events. How unlucky! What is that probability? \n"
      ]
    },
    {
      "cell_type": "code",
      "metadata": {
        "colab": {
          "base_uri": "https://localhost:8080/"
        },
        "id": "1TeTEInb_FCQ",
        "outputId": "0c587186-99d5-44ca-b2fa-59c152de56c0"
      },
      "source": [
        "# Your code here\n",
        "\n",
        "# Observe 0 events, given an average value of 1\n",
        "obs = 0\n",
        "ave = 1\n",
        "prob = stats.poisson.pmf(obs,ave)\n",
        "print(\"The probability of observing {0} events given an average of {1} is {2:.3}\".format(obs,ave,prob))"
      ],
      "execution_count": null,
      "outputs": [
        {
          "output_type": "stream",
          "text": [
            "The probability of observing 0 events given an average of 1 is 0.368\n"
          ],
          "name": "stdout"
        }
      ]
    },
    {
      "cell_type": "markdown",
      "metadata": {
        "id": "GkNlrhFWAlVF"
      },
      "source": [
        "Note that the Universe could \"want\" to produce 2 events, on average, for the time interval in which you collected data, but if the process is Poisson in nature, then there is a probability that you would have observed 0 events. How unlucky! What is that probability?"
      ]
    },
    {
      "cell_type": "code",
      "metadata": {
        "colab": {
          "base_uri": "https://localhost:8080/"
        },
        "id": "GRYa0AxyAgP0",
        "outputId": "4f96d6eb-0a91-4e03-be7f-0bd1e69f7bb3"
      },
      "source": [
        "# Your code here\n",
        "\n",
        "# Observe 0 events, given an average value of 2\n",
        "obs = 0\n",
        "ave = 2\n",
        "prob = stats.poisson.pmf(obs,ave)\n",
        "print(\"The probability of observing {0} events given an average of {1} is {2:.3}\".format(obs,ave,prob))"
      ],
      "execution_count": null,
      "outputs": [
        {
          "output_type": "stream",
          "text": [
            "The probability of observing 0 events given an average of 2 is 0.135\n"
          ],
          "name": "stdout"
        }
      ]
    },
    {
      "cell_type": "markdown",
      "metadata": {
        "id": "-At2jnDMAqbF"
      },
      "source": [
        "Calculate these probabilities, up to the situation where the Universe \"wants\" to produce 10 events on average but you observe 0. If you sum up all these probabilities, what do you get? "
      ]
    },
    {
      "cell_type": "code",
      "metadata": {
        "colab": {
          "base_uri": "https://localhost:8080/"
        },
        "id": "-j2Y-mE2ApTj",
        "outputId": "15b7011e-3c0d-468c-cc63-0b17f6abff96"
      },
      "source": [
        "# Your code here\n",
        "\n",
        "total_prob = 0\n",
        "\n",
        "obs = 0\n",
        "for ave in range(1,11):\n",
        "  prob = stats.poisson.pmf(obs,ave)\n",
        "  print(\"The probability of observing {0} events given an average of {1} is {2:.3}\".format(obs,ave,prob))\n",
        "  total_prob += prob\n",
        "\n",
        "print(\"The total probability is {0:.3}\".format(total_prob))"
      ],
      "execution_count": null,
      "outputs": [
        {
          "output_type": "stream",
          "text": [
            "The probability of observing 0 events given an average of 1 is 0.368\n",
            "The probability of observing 0 events given an average of 2 is 0.135\n",
            "The probability of observing 0 events given an average of 3 is 0.0498\n",
            "The probability of observing 0 events given an average of 4 is 0.0183\n",
            "The probability of observing 0 events given an average of 5 is 0.00674\n",
            "The probability of observing 0 events given an average of 6 is 0.00248\n",
            "The probability of observing 0 events given an average of 7 is 0.000912\n",
            "The probability of observing 0 events given an average of 8 is 0.000335\n",
            "The probability of observing 0 events given an average of 9 is 0.000123\n",
            "The probability of observing 0 events given an average of 10 is 4.54e-05\n",
            "The total probability is 0.582\n"
          ],
          "name": "stdout"
        }
      ]
    },
    {
      "cell_type": "markdown",
      "metadata": {
        "id": "hwWnRj8eBPjy"
      },
      "source": [
        "OK, now go back and see how \"high\" you have to go in summing up these hypothesis about the Universe before you cover 90% of the possible probability for 0. "
      ]
    },
    {
      "cell_type": "code",
      "metadata": {
        "colab": {
          "base_uri": "https://localhost:8080/"
        },
        "id": "Vh1gSbq2BDdZ",
        "outputId": "bb8a82c0-54cb-4dc3-f054-50a0263bebcc"
      },
      "source": [
        "# Your code here\n",
        "\n",
        "obs = 0\n",
        "partial_total_prob = 0\n",
        "\n",
        "for ave in range(1,11):\n",
        "  prob = stats.poisson.pmf(obs,ave)\n",
        "  partial_total_prob += prob/total_prob\n",
        "  print(\"The sum of the probabilities of observing {0} events given an average of {1} is {2:.3}\".format(obs,ave,partial_total_prob))\n",
        "\n",
        "  if partial_total_prob>=0.95:\n",
        "    break"
      ],
      "execution_count": null,
      "outputs": [
        {
          "output_type": "stream",
          "text": [
            "The sum of the probabilities of observing 0 events given an average of 1 is 0.632\n",
            "The sum of the probabilities of observing 0 events given an average of 2 is 0.865\n",
            "The sum of the probabilities of observing 0 events given an average of 3 is 0.95\n"
          ],
          "name": "stdout"
        }
      ]
    },
    {
      "cell_type": "markdown",
      "metadata": {
        "id": "PxCAVqplCR9_"
      },
      "source": [
        "Check your answer with Table 39.3 in the [PDG review on Statistics](https://pdg.lbl.gov/2018/reviews/rpp2018-rev-statistics.pdf)!"
      ]
    },
    {
      "cell_type": "code",
      "metadata": {
        "id": "kCVu5gtjBvzh"
      },
      "source": [
        ""
      ],
      "execution_count": null,
      "outputs": []
    }
  ]
}